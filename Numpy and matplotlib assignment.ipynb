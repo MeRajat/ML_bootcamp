{
 "cells": [
  {
   "cell_type": "markdown",
   "metadata": {},
   "source": [
    "#### 1. Import the numpy package under the name `np`\n"
   ]
  },
  {
   "cell_type": "code",
   "execution_count": null,
   "metadata": {
    "collapsed": true
   },
   "outputs": [],
   "source": [
    "import numpy as np"
   ]
  },
  {
   "cell_type": "markdown",
   "metadata": {},
   "source": [
    "#### 2. Print the numpy version and the configuration\n",
    "(**hint**: np.\\_\\_version\\_\\_, np.show\\_config)"
   ]
  },
  {
   "cell_type": "code",
   "execution_count": null,
   "metadata": {},
   "outputs": [],
   "source": [
    "print(np.__version__)"
   ]
  },
  {
   "cell_type": "markdown",
   "metadata": {},
   "source": [
    "#### 3.  Create a null vector of size 10 but the fifth value which is 1\n",
    "(**hint**: array\\[4\\])"
   ]
  },
  {
   "cell_type": "code",
   "execution_count": null,
   "metadata": {},
   "outputs": [],
   "source": [
    "a = np.zeros(10)\n",
    "a[4] = 1\n",
    "print(a)"
   ]
  },
  {
   "cell_type": "markdown",
   "metadata": {},
   "source": [
    "#### 4.  Create a numpy array with values 1 to 100\n",
    "(**hint**: np.arange)"
   ]
  },
  {
   "cell_type": "code",
   "execution_count": null,
   "metadata": {},
   "outputs": [],
   "source": [
    "a = np.arange(1, 100)\n",
    "print(a)"
   ]
  },
  {
   "cell_type": "markdown",
   "metadata": {},
   "source": [
    "#### 5.  Create two numpy array with values 1 to 100"
   ]
  },
  {
   "cell_type": "code",
   "execution_count": null,
   "metadata": {},
   "outputs": [],
   "source": [
    "a = np.arange(1, 100)\n",
    "b = np.arange(1, 100)\n",
    "print(a)\n",
    "print(b)"
   ]
  },
  {
   "cell_type": "markdown",
   "metadata": {},
   "source": [
    "#### 6.  Create a numpy two arrays with 100 random integer values \n",
    "(**hint**: np.random.randint)"
   ]
  },
  {
   "cell_type": "code",
   "execution_count": null,
   "metadata": {},
   "outputs": [],
   "source": [
    "a = np.random.randint(1, 100, size=100)\n",
    "b = np.random.randint(1, 100, size=100)"
   ]
  },
  {
   "cell_type": "markdown",
   "metadata": {},
   "source": [
    "#### 7.  Calculate the [Euclidean distance](https://en.wikipedia.org/wiki/Euclidean_distance) between two numpy random int arrays"
   ]
  },
  {
   "cell_type": "code",
   "execution_count": null,
   "metadata": {},
   "outputs": [],
   "source": [
    "a = np.random.randint(1, 100, size=100)\n",
    "b = np.random.randint(1, 100, size=100)\n",
    "print(a)\n",
    "print(b)\n",
    "sq = 0\n",
    "for i in range(100):\n",
    "    sq += (b[i] - a[i]) ** 2\n",
    "print(np.sqrt(sq))"
   ]
  },
  {
   "cell_type": "markdown",
   "metadata": {},
   "source": [
    "#### 8.  Create two numpy array with random int values and plot those values using matplotlib\n",
    "(**hint**: pyplot.scatter)"
   ]
  },
  {
   "cell_type": "code",
   "execution_count": null,
   "metadata": {},
   "outputs": [],
   "source": [
    "import numpy as np\n",
    "from matplotlib import pyplot as plt\n",
    "%matplotlib inline\n",
    "\n",
    "a = np.random.randint(1, 100, 100)\n",
    "b = np.random.randint(1, 100, 100)\n",
    "# use plt.scatter\n",
    "# plt.show()\n",
    "plt.scatter(a, b)\n",
    "plt.show()"
   ]
  },
  {
   "cell_type": "markdown",
   "metadata": {},
   "source": [
    "#### 9.  Run the below code and make it work\n",
    "(**hint**: pyplot.scatter)"
   ]
  },
  {
   "cell_type": "code",
   "execution_count": null,
   "metadata": {},
   "outputs": [],
   "source": [
    "import numpy as np\n",
    "\n",
    "a = np.random.randint(1, 10, (3, 5))\n",
    "b = np.ones((1, 5))\n",
    "## multiply each element of b with 10 without any loop\n",
    "## Add a with b without any loop\n",
    "b *= 10\n",
    "print(a+b)"
   ]
  },
  {
   "cell_type": "markdown",
   "metadata": {},
   "source": [
    "#### 10.  Create a numpy array and calculate the [softmax](https://en.wikipedia.org/wiki/Softmax_function) for each value\n",
    "\n",
    "The mathematical formula for softmax is\n",
    "\n",
    "<div style=\"font-size: 175%;\"> $$ \\sigma(z_i) = \\frac{e^{_i}}{ \\sum_j e^{_j} } $$ </div>\n",
    "\n",
    "(**hint**: if array is [1, 2, 3] than the resulting array will be \n",
    "$$ a[0] = \\frac{e^1}{e^1 + e^2 + e^3}$$\n",
    "\n",
    "$$ a[1] = \\frac{e^2}{e^2 + e^2 + e^3}$$\n",
    "\n",
    "$$ a[2] = \\frac{e^3}{e^3 + e^2 + e^3}$$"
   ]
  },
  {
   "cell_type": "code",
   "execution_count": null,
   "metadata": {},
   "outputs": [],
   "source": [
    "a = np.random.randint(1, 10, size=10)\n",
    "b = np.zeros(a.shape)\n",
    "for i in range(10):\n",
    "    b[i] = (np.exp(a[i]) / np.sum(np.exp(a)))\n",
    "print(b)"
   ]
  },
  {
   "cell_type": "markdown",
   "metadata": {},
   "source": [
    "#### 11.  Create a numpy array and calculate the [softmax](https://en.wikipedia.org/wiki/Softmax_function) for each value without loop"
   ]
  },
  {
   "cell_type": "code",
   "execution_count": null,
   "metadata": {},
   "outputs": [],
   "source": [
    "b = np.exp(a) / np.sum(np.exp(a))\n",
    "print(b)"
   ]
  },
  {
   "cell_type": "markdown",
   "metadata": {},
   "source": [
    "#### 12.  \n",
    "- Create a numpy matrix of size 11x11\n",
    "- Create another numpy martix with 3x3\n",
    "- Now for start from the top left corner of first matrix and for each 3x3 matrix multiply it with second 3x3 matrix and add these elements\n",
    "\n",
    "<img src=data/deepanshu.gif>\n",
    "\n"
   ]
  },
  {
   "cell_type": "code",
   "execution_count": null,
   "metadata": {},
   "outputs": [],
   "source": [
    "def convolve_2d_kernel(arr, kernel):\n",
    "    kernel_width = kernel.shape[0]\n",
    "    kernel_height = kernel.shape[1]\n",
    "    \n",
    "    transformed_arr = np.zeros((arr.shape[0] - kernel_width + 1, arr.shape[1] - kernel_height + 1))\n",
    "    \n",
    "    for i in range(arr.shape[0] - kernel_width + 1):\n",
    "        for j in range(arr.shape[1] - kernel_height + 1):\n",
    "            temp_arr = arr[i: i + kernel_width, j: j+kernel_height]\n",
    "            transformed_arr[i, j] = np.sum(temp_arr * kernel)\n",
    "\n",
    "    return transformed_arr\n",
    "\n",
    "first = np.random.randint(1, 100, size=(5, 5))\n",
    "second = np.random.randint(1, 100, size=(3, 3))\n",
    "print(first)\n",
    "print(second)\n",
    "print(convolve_2d_kernel(first, second))"
   ]
  },
  {
   "cell_type": "code",
   "execution_count": null,
   "metadata": {},
   "outputs": [],
   "source": [
    "l = [(1,2), (3,2), (5,6), (6,7), (2,4), (10,15)]\n",
    "\n",
    "len_of_l = len(l)\n",
    "i = 0\n",
    "\n",
    "while i < (len_of_l - 1):\n",
    "    for j in range(i + 1, len_of_l):\n",
    "        i_set = set(l[i])\n",
    "        j_set = set(l[j])\n",
    "        if len(i_set.intersection(j_set)) > 0:\n",
    "            l.pop(j)\n",
    "            l.pop(i)\n",
    "            ij_union = list(i_set.union(j_set))\n",
    "            l.append(ij_union)\n",
    "            len_of_l -= 1\n",
    "            i -= 1\n",
    "            break\n",
    "    i += 1\n",
    "\n",
    "print (l)"
   ]
  },
  {
   "cell_type": "code",
   "execution_count": null,
   "metadata": {
    "collapsed": true
   },
   "outputs": [],
   "source": []
  }
 ],
 "metadata": {
  "kernelspec": {
   "display_name": "Python 3",
   "language": "python",
   "name": "python3"
  },
  "language_info": {
   "codemirror_mode": {
    "name": "ipython",
    "version": 3
   },
   "file_extension": ".py",
   "mimetype": "text/x-python",
   "name": "python",
   "nbconvert_exporter": "python",
   "pygments_lexer": "ipython3",
   "version": "3.6.1"
  }
 },
 "nbformat": 4,
 "nbformat_minor": 2
}
