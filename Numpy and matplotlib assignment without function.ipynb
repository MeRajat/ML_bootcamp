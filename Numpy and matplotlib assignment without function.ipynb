{
 "cells": [
  {
   "cell_type": "markdown",
   "metadata": {},
   "source": [
    "#### 1. Import the numpy package under the name `np`\n"
   ]
  },
  {
   "cell_type": "code",
   "execution_count": 1,
   "metadata": {
    "collapsed": true
   },
   "outputs": [],
   "source": [
    "import numpy as np"
   ]
  },
  {
   "cell_type": "markdown",
   "metadata": {},
   "source": [
    "#### 2. Print the numpy version and the configuration\n",
    "(**hint**: np.\\_\\_version\\_\\_, np.show\\_config)"
   ]
  },
  {
   "cell_type": "code",
   "execution_count": 2,
   "metadata": {},
   "outputs": [
    {
     "name": "stdout",
     "output_type": "stream",
     "text": [
      "1.12.1\n"
     ]
    }
   ],
   "source": [
    "print (np.__version__)"
   ]
  },
  {
   "cell_type": "markdown",
   "metadata": {},
   "source": [
    "#### 3.  Create a zero vector of size 10 but the fifth value which is 1\n",
    "(**hint**: array\\[4\\])"
   ]
  },
  {
   "cell_type": "code",
   "execution_count": 5,
   "metadata": {},
   "outputs": [
    {
     "name": "stdout",
     "output_type": "stream",
     "text": [
      "[ 0.  0.  0.  0.  0.  0.  0.  0.  0.  0.]\n",
      "[ 0.  0.  0.  0.  1.  0.  0.  0.  0.  0.]\n"
     ]
    }
   ],
   "source": [
    "a = np.zeros(10)\n",
    "print(a)\n",
    "a[4] = 1\n",
    "print(a)"
   ]
  },
  {
   "cell_type": "markdown",
   "metadata": {},
   "source": [
    "#### 4.  Create a numpy array with values 1 to 100\n",
    "(**hint**: np.arange)"
   ]
  },
  {
   "cell_type": "code",
   "execution_count": 6,
   "metadata": {},
   "outputs": [
    {
     "name": "stdout",
     "output_type": "stream",
     "text": [
      "[ 1  2  3  4  5  6  7  8  9 10 11 12 13 14 15 16 17 18 19 20 21 22 23 24 25\n",
      " 26 27 28 29 30 31 32 33 34 35 36 37 38 39 40 41 42 43 44 45 46 47 48 49 50\n",
      " 51 52 53 54 55 56 57 58 59 60 61 62 63 64 65 66 67 68 69 70 71 72 73 74 75\n",
      " 76 77 78 79 80 81 82 83 84 85 86 87 88 89 90 91 92 93 94 95 96 97 98 99]\n"
     ]
    }
   ],
   "source": [
    "a = np.arange(1, 100)\n",
    "print(a)"
   ]
  },
  {
   "cell_type": "markdown",
   "metadata": {},
   "source": [
    "#### 5.  Create two numpy array with values 1 to 100"
   ]
  },
  {
   "cell_type": "code",
   "execution_count": 7,
   "metadata": {},
   "outputs": [
    {
     "name": "stdout",
     "output_type": "stream",
     "text": [
      "[ 1  2  3  4  5  6  7  8  9 10 11 12 13 14 15 16 17 18 19 20 21 22 23 24 25\n",
      " 26 27 28 29 30 31 32 33 34 35 36 37 38 39 40 41 42 43 44 45 46 47 48 49 50\n",
      " 51 52 53 54 55 56 57 58 59 60 61 62 63 64 65 66 67 68 69 70 71 72 73 74 75\n",
      " 76 77 78 79 80 81 82 83 84 85 86 87 88 89 90 91 92 93 94 95 96 97 98 99]\n",
      "[ 1  2  3  4  5  6  7  8  9 10 11 12 13 14 15 16 17 18 19 20 21 22 23 24 25\n",
      " 26 27 28 29 30 31 32 33 34 35 36 37 38 39 40 41 42 43 44 45 46 47 48 49 50\n",
      " 51 52 53 54 55 56 57 58 59 60 61 62 63 64 65 66 67 68 69 70 71 72 73 74 75\n",
      " 76 77 78 79 80 81 82 83 84 85 86 87 88 89 90 91 92 93 94 95 96 97 98 99]\n"
     ]
    }
   ],
   "source": [
    "a = np.arange(1, 100)\n",
    "b = np.arange(1, 100)\n",
    "print(a)\n",
    "print(b)"
   ]
  },
  {
   "cell_type": "markdown",
   "metadata": {},
   "source": [
    "#### 6.  Create a numpy two arrays with 100 random integer values \n",
    "(**hint**: np.random.randint)"
   ]
  },
  {
   "cell_type": "code",
   "execution_count": 8,
   "metadata": {},
   "outputs": [
    {
     "name": "stdout",
     "output_type": "stream",
     "text": [
      "[29 96 57 15 93  3 20 43  7 80 20 12 33 88 37 92 80  7 26 88 89 89 88 95 35\n",
      " 43 21 86 67 59 35 86 69 33 21 96 18 80 67 76 16  4 75 37  3 58 66  8 66 22\n",
      " 90 35 14 19 72 72 27 84 84 32 41 59 29 48 34 23 46  8  6  5 40 13 64 49 28\n",
      " 80 24 45 17 53 30 13 62 68 18 44 14 80 11 82 69 18 16 59 36 74 35 38 62 47]\n",
      "100\n"
     ]
    }
   ],
   "source": [
    "a = np.random.randint(1, 100, size=100)\n",
    "print(a)\n",
    "print(len(a))"
   ]
  },
  {
   "cell_type": "markdown",
   "metadata": {},
   "source": [
    "#### 7.  Calculate the [Euclidean distance](https://en.wikipedia.org/wiki/Euclidean_distance) between two numpy random int arrays"
   ]
  },
  {
   "cell_type": "code",
   "execution_count": 9,
   "metadata": {},
   "outputs": [
    {
     "name": "stdout",
     "output_type": "stream",
     "text": [
      "403.267901029\n"
     ]
    }
   ],
   "source": [
    "a = np.random.randint(1, 100, size=100)\n",
    "b = np.random.randint(1, 100, size=100)\n",
    "squares = 0\n",
    "for i in range(100):\n",
    "    squares += (b[i] - a[i]) ** 2\n",
    "print(np.sqrt(squares))"
   ]
  },
  {
   "cell_type": "markdown",
   "metadata": {},
   "source": [
    "#### 8.  Create two numpy array with random int values and plot those values using matplotlib\n",
    "(**hint**: pyplot.scatter)"
   ]
  },
  {
   "cell_type": "code",
   "execution_count": 10,
   "metadata": {},
   "outputs": [
    {
     "data": {
      "image/png": "[encoded data removed]",
      "text/plain": [
       "<matplotlib.figure.Figure at 0x19ed9a11c88>"
      ]
     },
     "metadata": {},
     "output_type": "display_data"
    }
   ],
   "source": [
    "import numpy as np\n",
    "from matplotlib import pyplot as plt\n",
    "%matplotlib inline\n",
    "\n",
    "a = np.random.randint(1, 100, 100)\n",
    "b = np.random.randint(1, 100, 100)\n",
    "# use plt.scatter\n",
    "# plt.show()\n",
    "plt.scatter(a, b)\n",
    "plt.show()"
   ]
  },
  {
   "cell_type": "markdown",
   "metadata": {},
   "source": [
    "#### 9.  Run the below code and make it work\n",
    "(**hint**: pyplot.scatter)"
   ]
  },
  {
   "cell_type": "code",
   "execution_count": 13,
   "metadata": {},
   "outputs": [
    {
     "name": "stdout",
     "output_type": "stream",
     "text": [
      "[[7 1 1 1 8]\n",
      " [6 8 6 7 9]\n",
      " [4 4 1 2 4]]\n",
      "[[ 1.  1.  1.  1.  1.]]\n",
      "[[ 17.  11.  11.  11.  18.]\n",
      " [ 16.  18.  16.  17.  19.]\n",
      " [ 14.  14.  11.  12.  14.]]\n"
     ]
    }
   ],
   "source": [
    "import numpy as np\n",
    "\n",
    "a = np.random.randint(1, 10, (3, 5))\n",
    "b = np.ones((1, 5))\n",
    "## multiply each element of b with 10 without any loop\n",
    "## Add a with b without any loop\n",
    "print(a)\n",
    "print(b)\n",
    "b = b * 10\n",
    "print(a + b)"
   ]
  },
  {
   "cell_type": "markdown",
   "metadata": {},
   "source": [
    "#### 10.  Create a numpy array and calculate the [softmax](https://en.wikipedia.org/wiki/Softmax_function) for each value\n",
    "\n",
    "The mathematical formula for softmax is\n",
    "\n",
    "<div style=\"font-size: 175%;\"> $$ \\sigma(z_i) = \\frac{e^{_i}}{ \\sum_j e^{_j} } $$ </div>\n",
    "\n",
    "(**hint**: if array is [1, 2, 3] than the resulting array will be \n",
    "$$ a[0] = \\frac{e^0}{e^0 + e^1 + e^2}$$\n",
    "\n",
    "$$ a[1] = \\frac{e^1}{e^0 + e^1 + e^2}$$\n",
    "\n",
    "$$ a[2] = \\frac{e^2}{e^0 + e^1 + e^2}$$"
   ]
  },
  {
   "cell_type": "code",
   "execution_count": 14,
   "metadata": {},
   "outputs": [
    {
     "name": "stdout",
     "output_type": "stream",
     "text": [
      "[  4.71925779e-04   1.90388448e-01   3.48708606e-03   1.73611792e-04\n",
      "   4.71925779e-04   1.90388448e-01   7.00399957e-02   5.17529458e-01\n",
      "   1.28282727e-03   2.57662745e-02]\n"
     ]
    }
   ],
   "source": [
    "a = np.random.randint(1, 10, size=10)\n",
    "b = np.zeros(a.shape)\n",
    "for i in range(10):\n",
    "    b[i] = np.exp(a[i]) / np.sum(np.exp(a))\n",
    "print(b)"
   ]
  },
  {
   "cell_type": "markdown",
   "metadata": {},
   "source": [
    "#### 11.  Create a numpy array and calculate the [softmax](https://en.wikipedia.org/wiki/Softmax_function) for each value without loop"
   ]
  },
  {
   "cell_type": "code",
   "execution_count": 17,
   "metadata": {},
   "outputs": [
    {
     "name": "stdout",
     "output_type": "stream",
     "text": [
      "[  7.81876142e-04   7.81876142e-04   1.57044021e-02   2.12535971e-03\n",
      "   1.16040708e-01   7.81876142e-04   5.77732667e-03   2.87636158e-04\n",
      "   2.87636158e-04   8.57431303e-01]\n"
     ]
    }
   ],
   "source": [
    "a = np.random.randint(1, 10, size=10)\n",
    "\n",
    "# x = np.exp(a)\n",
    "# y = np.sum(x)\n",
    "# z = x /y\n",
    "# print(z)\n",
    "\n",
    "print(np.exp(a) / (np.sum(np.exp(a))))"
   ]
  },
  {
   "cell_type": "markdown",
   "metadata": {},
   "source": [
    "#### 12.  \n",
    "- Create a numpy matrix of size 11x11\n",
    "- Create another numpy martix with 3x3\n",
    "- Now for start from the top left corner of first matrix and for each 3x3 matrix multiply it with second 3x3 matrix and add these elements\n",
    "\n",
    "<img src=data/deepanshu.gif>\n",
    "\n"
   ]
  },
  {
   "cell_type": "code",
   "execution_count": 19,
   "metadata": {},
   "outputs": [
    {
     "name": "stdout",
     "output_type": "stream",
     "text": [
      "[[  82.   78.   78.   79.   99.   85.   96.   60.   75.]\n",
      " [  72.   90.   73.   85.   75.   82.   88.   66.   88.]\n",
      " [  76.   71.   69.   71.   71.   84.   82.   68.   76.]\n",
      " [  61.   63.   74.   69.   63.   70.   69.   50.   71.]\n",
      " [  57.   53.   64.   73.   80.   72.   76.   74.   80.]\n",
      " [  61.   67.   71.   71.   75.   80.   79.   83.   69.]\n",
      " [  62.   65.   71.   74.   72.   79.   79.   99.   96.]\n",
      " [  61.   76.   79.   86.   88.   83.  103.   84.   73.]\n",
      " [  60.   78.   73.   94.   98.   94.  103.   83.   89.]]\n",
      "(9, 9)\n"
     ]
    }
   ],
   "source": [
    "a = np.random.randint(1, 5, size=(11, 11))\n",
    "b = np.random.randint(1, 5, size=(3, 3))\n",
    "result = np.zeros((11-3+1, 11-3+1))\n",
    "for i in range(0, 11 - 3 + 1):\n",
    "    for j in range(0, 11 - 3 + 1):\n",
    "        sliced_array = a[i:i+3, j:j+3]\n",
    "        temp = sliced_array * b\n",
    "        sum_ = np.sum(temp)\n",
    "        result[i, j] = sum_\n",
    "        \n",
    "print(result)\n",
    "print(result.shape)"
   ]
  },
  {
   "cell_type": "code",
   "execution_count": null,
   "metadata": {
    "collapsed": true
   },
   "outputs": [],
   "source": []
  }
 ],
 "metadata": {
  "kernelspec": {
   "display_name": "Python 3",
   "language": "python",
   "name": "python3"
  },
  "language_info": {
   "codemirror_mode": {
    "name": "ipython",
    "version": 3
   },
   "file_extension": ".py",
   "mimetype": "text/x-python",
   "name": "python",
   "nbconvert_exporter": "python",
   "pygments_lexer": "ipython3",
   "version": "3.6.1"
  }
 },
 "nbformat": 4,
 "nbformat_minor": 2
}
